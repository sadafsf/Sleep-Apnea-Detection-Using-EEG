{
 "cells": [
  {
   "cell_type": "code",
   "execution_count": 1,
   "source": [
    "import numpy as np\n",
    "# import cvxopt\n",
    "import pandas as pd\n",
    "# pd.plotting.register_matplotlib_converters()\n",
    "import matplotlib.pyplot as plt\n",
    "%matplotlib inline\n",
    "import seaborn as sns\n",
    "import copy\n",
    "\n",
    "\n",
    "import numpy as np\n",
    "from sklearn.neighbors import KNeighborsClassifier\n",
    "import sklearn.preprocessing as preprocess\n",
    "from sklearn.preprocessing import LabelEncoder, OneHotEncoder\n",
    "from sklearn.model_selection import train_test_split\n",
    "from sklearn.metrics import classification_report, confusion_matrix, plot_confusion_matrix\n",
    "from sklearn.model_selection import KFold\n",
    "from sklearn.model_selection import cross_val_score\n",
    "from sklearn.metrics import accuracy_score\n",
    "from sklearn.utils import shuffle\n",
    "from sklearn.svm import SVC, LinearSVC\n",
    "import statistics\n",
    "from sklearn.ensemble import BaggingClassifier \n",
    "from numpy import mean\n",
    "from numpy import std\n",
    "from sklearn import svm\n",
    "from sklearn.model_selection import LeaveOneOut\n",
    "from sklearn.linear_model import LogisticRegression\n",
    "from matplotlib import pyplot\n",
    "from sklearn.preprocessing import RobustScaler\n"
   ],
   "outputs": [],
   "metadata": {}
  },
  {
   "cell_type": "code",
   "execution_count": 2,
   "source": [
    "data=pd.read_csv(\"/Users/sadafsafa/Desktop/final.csv\")"
   ],
   "outputs": [],
   "metadata": {}
  },
  {
   "cell_type": "code",
   "execution_count": 3,
   "source": [
    "data.head()"
   ],
   "outputs": [
    {
     "output_type": "execute_result",
     "data": {
      "text/html": [
       "<div>\n",
       "<style scoped>\n",
       "    .dataframe tbody tr th:only-of-type {\n",
       "        vertical-align: middle;\n",
       "    }\n",
       "\n",
       "    .dataframe tbody tr th {\n",
       "        vertical-align: top;\n",
       "    }\n",
       "\n",
       "    .dataframe thead th {\n",
       "        text-align: right;\n",
       "    }\n",
       "</style>\n",
       "<table border=\"1\" class=\"dataframe\">\n",
       "  <thead>\n",
       "    <tr style=\"text-align: right;\">\n",
       "      <th></th>\n",
       "      <th>Energy</th>\n",
       "      <th>Variance</th>\n",
       "      <th>Enthropy</th>\n",
       "      <th>Form Factor</th>\n",
       "      <th>Ouput</th>\n",
       "    </tr>\n",
       "  </thead>\n",
       "  <tbody>\n",
       "    <tr>\n",
       "      <th>0</th>\n",
       "      <td>0.005331</td>\n",
       "      <td>0.000073</td>\n",
       "      <td>1.812607</td>\n",
       "      <td>1.067904</td>\n",
       "      <td>1</td>\n",
       "    </tr>\n",
       "    <tr>\n",
       "      <th>1</th>\n",
       "      <td>0.000244</td>\n",
       "      <td>0.000111</td>\n",
       "      <td>1.963357</td>\n",
       "      <td>1.086146</td>\n",
       "      <td>1</td>\n",
       "    </tr>\n",
       "    <tr>\n",
       "      <th>2</th>\n",
       "      <td>0.040782</td>\n",
       "      <td>0.000284</td>\n",
       "      <td>2.282827</td>\n",
       "      <td>1.919749</td>\n",
       "      <td>1</td>\n",
       "    </tr>\n",
       "    <tr>\n",
       "      <th>3</th>\n",
       "      <td>0.001448</td>\n",
       "      <td>0.000047</td>\n",
       "      <td>1.607245</td>\n",
       "      <td>1.154540</td>\n",
       "      <td>1</td>\n",
       "    </tr>\n",
       "    <tr>\n",
       "      <th>4</th>\n",
       "      <td>0.001074</td>\n",
       "      <td>0.000037</td>\n",
       "      <td>1.517099</td>\n",
       "      <td>1.089576</td>\n",
       "      <td>1</td>\n",
       "    </tr>\n",
       "  </tbody>\n",
       "</table>\n",
       "</div>"
      ],
      "text/plain": [
       "     Energy  Variance  Enthropy  Form Factor  Ouput\n",
       "0  0.005331  0.000073  1.812607     1.067904      1\n",
       "1  0.000244  0.000111  1.963357     1.086146      1\n",
       "2  0.040782  0.000284  2.282827     1.919749      1\n",
       "3  0.001448  0.000047  1.607245     1.154540      1\n",
       "4  0.001074  0.000037  1.517099     1.089576      1"
      ]
     },
     "metadata": {},
     "execution_count": 3
    }
   ],
   "metadata": {}
  },
  {
   "cell_type": "code",
   "execution_count": 4,
   "source": [
    "m_features=['Energy','Variance','Enthropy','Form Factor']"
   ],
   "outputs": [],
   "metadata": {}
  },
  {
   "cell_type": "code",
   "execution_count": 5,
   "source": [
    "X=data[m_features]"
   ],
   "outputs": [],
   "metadata": {}
  },
  {
   "cell_type": "code",
   "execution_count": 6,
   "source": [
    "X.describe()"
   ],
   "outputs": [
    {
     "output_type": "execute_result",
     "data": {
      "text/html": [
       "<div>\n",
       "<style scoped>\n",
       "    .dataframe tbody tr th:only-of-type {\n",
       "        vertical-align: middle;\n",
       "    }\n",
       "\n",
       "    .dataframe tbody tr th {\n",
       "        vertical-align: top;\n",
       "    }\n",
       "\n",
       "    .dataframe thead th {\n",
       "        text-align: right;\n",
       "    }\n",
       "</style>\n",
       "<table border=\"1\" class=\"dataframe\">\n",
       "  <thead>\n",
       "    <tr style=\"text-align: right;\">\n",
       "      <th></th>\n",
       "      <th>Energy</th>\n",
       "      <th>Variance</th>\n",
       "      <th>Enthropy</th>\n",
       "      <th>Form Factor</th>\n",
       "    </tr>\n",
       "  </thead>\n",
       "  <tbody>\n",
       "    <tr>\n",
       "      <th>count</th>\n",
       "      <td>1.600000e+02</td>\n",
       "      <td>1.600000e+02</td>\n",
       "      <td>160.000000</td>\n",
       "      <td>160.000000</td>\n",
       "    </tr>\n",
       "    <tr>\n",
       "      <th>mean</th>\n",
       "      <td>1.056740e-02</td>\n",
       "      <td>8.601092e-04</td>\n",
       "      <td>1.999245</td>\n",
       "      <td>1.290977</td>\n",
       "    </tr>\n",
       "    <tr>\n",
       "      <th>std</th>\n",
       "      <td>1.581201e-02</td>\n",
       "      <td>4.115457e-03</td>\n",
       "      <td>0.762934</td>\n",
       "      <td>0.319874</td>\n",
       "    </tr>\n",
       "    <tr>\n",
       "      <th>min</th>\n",
       "      <td>8.626999e-07</td>\n",
       "      <td>8.225962e-07</td>\n",
       "      <td>0.119939</td>\n",
       "      <td>1.026371</td>\n",
       "    </tr>\n",
       "    <tr>\n",
       "      <th>25%</th>\n",
       "      <td>1.440931e-03</td>\n",
       "      <td>5.344334e-05</td>\n",
       "      <td>1.572832</td>\n",
       "      <td>1.090977</td>\n",
       "    </tr>\n",
       "    <tr>\n",
       "      <th>50%</th>\n",
       "      <td>4.895240e-03</td>\n",
       "      <td>1.712522e-04</td>\n",
       "      <td>2.095083</td>\n",
       "      <td>1.109952</td>\n",
       "    </tr>\n",
       "    <tr>\n",
       "      <th>75%</th>\n",
       "      <td>1.464660e-02</td>\n",
       "      <td>4.927604e-04</td>\n",
       "      <td>2.494998</td>\n",
       "      <td>1.257554</td>\n",
       "    </tr>\n",
       "    <tr>\n",
       "      <th>max</th>\n",
       "      <td>1.096858e-01</td>\n",
       "      <td>4.494825e-02</td>\n",
       "      <td>3.973464</td>\n",
       "      <td>2.301387</td>\n",
       "    </tr>\n",
       "  </tbody>\n",
       "</table>\n",
       "</div>"
      ],
      "text/plain": [
       "             Energy      Variance    Enthropy  Form Factor\n",
       "count  1.600000e+02  1.600000e+02  160.000000   160.000000\n",
       "mean   1.056740e-02  8.601092e-04    1.999245     1.290977\n",
       "std    1.581201e-02  4.115457e-03    0.762934     0.319874\n",
       "min    8.626999e-07  8.225962e-07    0.119939     1.026371\n",
       "25%    1.440931e-03  5.344334e-05    1.572832     1.090977\n",
       "50%    4.895240e-03  1.712522e-04    2.095083     1.109952\n",
       "75%    1.464660e-02  4.927604e-04    2.494998     1.257554\n",
       "max    1.096858e-01  4.494825e-02    3.973464     2.301387"
      ]
     },
     "metadata": {},
     "execution_count": 6
    }
   ],
   "metadata": {}
  },
  {
   "cell_type": "code",
   "execution_count": 7,
   "source": [
    "y=data.Ouput"
   ],
   "outputs": [],
   "metadata": {}
  },
  {
   "cell_type": "code",
   "execution_count": 8,
   "source": [
    "x_shuffle, y_shuffle = shuffle(X, y, random_state=42)"
   ],
   "outputs": [],
   "metadata": {}
  },
  {
   "cell_type": "code",
   "execution_count": 9,
   "source": [
    "  X_train, X_test, y_train, y_test = train_test_split(x_shuffle, y_shuffle, test_size=0.20,random_state=42) "
   ],
   "outputs": [],
   "metadata": {}
  },
  {
   "cell_type": "code",
   "execution_count": 10,
   "source": [
    "from sklearn.preprocessing import MinMaxScaler\n",
    "\n",
    "# fit scaler on training data\n",
    "norm = MinMaxScaler().fit(X_train)\n",
    "\n",
    "# transform training data\n",
    "X_train_norm = norm.transform(X_train)\n",
    "\n",
    "# transform testing dataabs\n",
    "X_test_norm = norm.transform(X_test)"
   ],
   "outputs": [],
   "metadata": {}
  },
  {
   "cell_type": "code",
   "execution_count": 11,
   "source": [
    "from sklearn.preprocessing import StandardScaler\n",
    "\n",
    "# copy of datasets\n",
    "X_train_stand = X_train.copy()\n",
    "X_test_stand = X_test.copy()\n",
    "\n",
    "# apply standardization on numerical features\n",
    "for i in m_features:\n",
    "    \n",
    "    # fit on training data column\n",
    "    scale = StandardScaler().fit(X_train_stand[[i]])\n",
    "    \n",
    "    # transform the training data column\n",
    "    X_train_stand[i] = scale.transform(X_train_stand[[i]])\n",
    "    # transform the testing data column\n",
    "    X_test_stand[i] = scale.transform(X_test_stand[[i]])"
   ],
   "outputs": [],
   "metadata": {}
  },
  {
   "cell_type": "code",
   "execution_count": 12,
   "source": [
    "scaler = RobustScaler().fit(X_train)\n",
    "\n",
    "X_train_rob=scaler.transform(X_train)\n",
    "X_test_rob=scaler.transform(X_test)"
   ],
   "outputs": [],
   "metadata": {}
  },
  {
   "cell_type": "code",
   "execution_count": 13,
   "source": [
    "trainX = [X_train, X_train_norm, X_train_stand]\n",
    "testX = [X_test, X_test_norm, X_test_stand]\n",
    "\n",
    "acc=[]\n",
    "knn = KNeighborsClassifier(n_neighbors=5)\n",
    "# model fitting and measuring accurecy \n",
    "for i in range(len(trainX)):\n",
    "    \n",
    "    # fit\n",
    "    knn.fit(trainX[i],y_train)\n",
    "    # predict\n",
    "    pred = knn.predict(testX[i])\n",
    "    # RMSE\n",
    "    acc.append(np.sqrt(accuracy_score(y_test,pred)))\n",
    "\n",
    "# visualizing the result\n",
    "df_knn = pd.DataFrame({'Acurrecy':acc},index=['Original','Normalized','Standardized'])\n",
    "df_knn"
   ],
   "outputs": [
    {
     "output_type": "execute_result",
     "data": {
      "text/html": [
       "<div>\n",
       "<style scoped>\n",
       "    .dataframe tbody tr th:only-of-type {\n",
       "        vertical-align: middle;\n",
       "    }\n",
       "\n",
       "    .dataframe tbody tr th {\n",
       "        vertical-align: top;\n",
       "    }\n",
       "\n",
       "    .dataframe thead th {\n",
       "        text-align: right;\n",
       "    }\n",
       "</style>\n",
       "<table border=\"1\" class=\"dataframe\">\n",
       "  <thead>\n",
       "    <tr style=\"text-align: right;\">\n",
       "      <th></th>\n",
       "      <th>Acurrecy</th>\n",
       "    </tr>\n",
       "  </thead>\n",
       "  <tbody>\n",
       "    <tr>\n",
       "      <th>Original</th>\n",
       "      <td>0.883883</td>\n",
       "    </tr>\n",
       "    <tr>\n",
       "      <th>Normalized</th>\n",
       "      <td>0.810093</td>\n",
       "    </tr>\n",
       "    <tr>\n",
       "      <th>Standardized</th>\n",
       "      <td>0.847791</td>\n",
       "    </tr>\n",
       "  </tbody>\n",
       "</table>\n",
       "</div>"
      ],
      "text/plain": [
       "              Acurrecy\n",
       "Original      0.883883\n",
       "Normalized    0.810093\n",
       "Standardized  0.847791"
      ]
     },
     "metadata": {},
     "execution_count": 13
    }
   ],
   "metadata": {}
  },
  {
   "cell_type": "code",
   "execution_count": 14,
   "source": [
    "svr = svm.SVC(kernel='poly',C=5)\n",
    "\n",
    "rmse = []\n",
    "\n",
    "for i in range(len(trainX)):\n",
    "    \n",
    "    # fit\n",
    "    svr.fit(trainX[i],y_train)\n",
    "    # predict\n",
    "    pred = svr.predict(testX[i])\n",
    "    # RMSE\n",
    "    rmse.append(np.sqrt(accuracy_score(y_test,pred)))\n",
    "\n",
    "# visualizing the result    \n",
    "df_svr = pd.DataFrame({'RMSE':rmse},index=['Original','Normalized','Standardized'])\n",
    "df_svr"
   ],
   "outputs": [
    {
     "output_type": "execute_result",
     "data": {
      "text/html": [
       "<div>\n",
       "<style scoped>\n",
       "    .dataframe tbody tr th:only-of-type {\n",
       "        vertical-align: middle;\n",
       "    }\n",
       "\n",
       "    .dataframe tbody tr th {\n",
       "        vertical-align: top;\n",
       "    }\n",
       "\n",
       "    .dataframe thead th {\n",
       "        text-align: right;\n",
       "    }\n",
       "</style>\n",
       "<table border=\"1\" class=\"dataframe\">\n",
       "  <thead>\n",
       "    <tr style=\"text-align: right;\">\n",
       "      <th></th>\n",
       "      <th>RMSE</th>\n",
       "    </tr>\n",
       "  </thead>\n",
       "  <tbody>\n",
       "    <tr>\n",
       "      <th>Original</th>\n",
       "      <td>0.829156</td>\n",
       "    </tr>\n",
       "    <tr>\n",
       "      <th>Normalized</th>\n",
       "      <td>0.810093</td>\n",
       "    </tr>\n",
       "    <tr>\n",
       "      <th>Standardized</th>\n",
       "      <td>0.750000</td>\n",
       "    </tr>\n",
       "  </tbody>\n",
       "</table>\n",
       "</div>"
      ],
      "text/plain": [
       "                  RMSE\n",
       "Original      0.829156\n",
       "Normalized    0.810093\n",
       "Standardized  0.750000"
      ]
     },
     "metadata": {},
     "execution_count": 14
    }
   ],
   "metadata": {}
  },
  {
   "cell_type": "code",
   "execution_count": 15,
   "source": [
    "\n",
    "#Create a svm Classifier\n",
    "model1= svm.SVC(kernel='poly',C=22) # Linear Kernel\n",
    "# model1=LogisticRegression(random_state=0)\n",
    "#Train the model using the training sets\n",
    "# scores=cross_val_score(model1, x_shuffle, y_shuffle, scoring='accuracy',cv=5)\n",
    "model1.fit(X_train, y_train)\n",
    "y_pred1 = model1.predict(X_test)\n",
    "acc_svm=accuracy_score(y_test, y_pred1)\n",
    "print('Accuracy: %.3f' % acc_svm)"
   ],
   "outputs": [
    {
     "output_type": "stream",
     "name": "stdout",
     "text": [
      "Accuracy: 0.781\n"
     ]
    }
   ],
   "metadata": {}
  },
  {
   "cell_type": "code",
   "execution_count": 16,
   "source": [
    "train_scores, test_scores = list(), list()\n",
    "# define the tree depths to evaluate\n",
    "values = [i for i in range(1, 51)]\n",
    "# evaluate a decision tree for each depth\n",
    "for i in values:\n",
    "\t# configure the model\n",
    "\tmodel_svm= svm.SVC(kernel='poly',C=i)\n",
    "\t# fit model on the training dataset\n",
    "\tmodel_svm.fit(X_train, y_train)\n",
    "\t# evaluate on the train dataset\n",
    "\ttrain_yhat = model_svm.predict(X_train)\n",
    "\ttrain_acc = accuracy_score(y_train, train_yhat)\n",
    "\ttrain_scores.append(train_acc)\n",
    "\t# evaluate on the test dataset\n",
    "\ttest_yhat = model_svm.predict(X_test)\n",
    "\ttest_acc = accuracy_score(y_test, test_yhat)\n",
    "\ttest_scores.append(test_acc)\n",
    "\t# summarize progress\n",
    "\tprint('>%d, train: %.3f, test: %.3f' % (i, train_acc, test_acc))\n",
    "# plot of train and test scores vs number of neighbors\n",
    "pyplot.plot(values, train_scores, '-o', label='Train')\n",
    "pyplot.plot(values, test_scores, '-o', label='Test')\n",
    "pyplot.legend()\n",
    "pyplot.show()"
   ],
   "outputs": [
    {
     "output_type": "stream",
     "name": "stdout",
     "text": [
      ">1, train: 0.688, test: 0.750\n",
      ">2, train: 0.719, test: 0.719\n",
      ">3, train: 0.711, test: 0.688\n",
      ">4, train: 0.719, test: 0.688\n",
      ">5, train: 0.734, test: 0.688\n",
      ">6, train: 0.734, test: 0.719\n",
      ">7, train: 0.750, test: 0.750\n",
      ">8, train: 0.758, test: 0.750\n",
      ">9, train: 0.766, test: 0.750\n",
      ">10, train: 0.766, test: 0.750\n",
      ">11, train: 0.758, test: 0.750\n",
      ">12, train: 0.766, test: 0.750\n",
      ">13, train: 0.781, test: 0.750\n",
      ">14, train: 0.781, test: 0.750\n",
      ">15, train: 0.781, test: 0.750\n",
      ">16, train: 0.773, test: 0.750\n",
      ">17, train: 0.766, test: 0.750\n",
      ">18, train: 0.766, test: 0.750\n",
      ">19, train: 0.766, test: 0.750\n",
      ">20, train: 0.766, test: 0.750\n",
      ">21, train: 0.766, test: 0.750\n",
      ">22, train: 0.766, test: 0.781\n",
      ">23, train: 0.781, test: 0.781\n",
      ">24, train: 0.781, test: 0.781\n",
      ">25, train: 0.781, test: 0.781\n",
      ">26, train: 0.781, test: 0.781\n",
      ">27, train: 0.781, test: 0.781\n",
      ">28, train: 0.781, test: 0.781\n",
      ">29, train: 0.781, test: 0.781\n",
      ">30, train: 0.781, test: 0.781\n",
      ">31, train: 0.781, test: 0.781\n",
      ">32, train: 0.781, test: 0.781\n",
      ">33, train: 0.781, test: 0.781\n",
      ">34, train: 0.766, test: 0.781\n",
      ">35, train: 0.766, test: 0.781\n",
      ">36, train: 0.766, test: 0.781\n",
      ">37, train: 0.766, test: 0.781\n",
      ">38, train: 0.766, test: 0.781\n",
      ">39, train: 0.766, test: 0.781\n",
      ">40, train: 0.766, test: 0.781\n",
      ">41, train: 0.766, test: 0.781\n",
      ">42, train: 0.766, test: 0.781\n",
      ">43, train: 0.766, test: 0.781\n",
      ">44, train: 0.766, test: 0.781\n",
      ">45, train: 0.766, test: 0.781\n",
      ">46, train: 0.766, test: 0.781\n",
      ">47, train: 0.766, test: 0.781\n",
      ">48, train: 0.766, test: 0.781\n",
      ">49, train: 0.766, test: 0.781\n",
      ">50, train: 0.766, test: 0.781\n"
     ]
    },
    {
     "output_type": "display_data",
     "data": {
      "image/png": "[encoded data removed]",
      "text/plain": [
       "<Figure size 432x288 with 1 Axes>"
      ]
     },
     "metadata": {
      "needs_background": "light"
     }
    }
   ],
   "metadata": {}
  },
  {
   "cell_type": "code",
   "execution_count": 17,
   "source": [
    "cm1= confusion_matrix(y_test,y_pred1)\n",
    "class_names=['Apnea','Non-apnea']\n",
    "plot_confusion_matrix(model1, X_test, y_test, display_labels=class_names, cmap=plt.cm.Blues)  \n",
    "plt.show()\n",
    "total1=sum(sum(cm1))\n",
    "accuracy1=(cm1[0,0]+cm1[1,1])/total1\n",
    "print ('Accuracy : ', accuracy1)\n",
    "\n",
    "\n",
    "sen_svm= cm1[0,0]/(cm1[0,0]+cm1[0,1])\n",
    "print('Sensitivity : ', sen_svm)\n",
    "\n",
    "spe_svm= cm1[1,1]/(cm1[1,0]+cm1[1,1])\n",
    "print('Specificity : ', spe_svm)\n"
   ],
   "outputs": [
    {
     "output_type": "display_data",
     "data": {
      "image/png": "[encoded data removed]",
      "text/plain": [
       "<Figure size 432x288 with 2 Axes>"
      ]
     },
     "metadata": {
      "needs_background": "light"
     }
    },
    {
     "output_type": "stream",
     "name": "stdout",
     "text": [
      "Accuracy :  0.78125\n",
      "Sensitivity :  0.7857142857142857\n",
      "Specificity :  0.7777777777777778\n"
     ]
    }
   ],
   "metadata": {}
  },
  {
   "cell_type": "code",
   "execution_count": 18,
   "source": [
    "print('SVM kernal: poly')\n",
    "print(classification_report(y_test, y_pred1, target_names=class_names))"
   ],
   "outputs": [
    {
     "output_type": "stream",
     "name": "stdout",
     "text": [
      "SVM kernal: poly\n",
      "              precision    recall  f1-score   support\n",
      "\n",
      "       Apnea       0.73      0.79      0.76        14\n",
      "   Non-apnea       0.82      0.78      0.80        18\n",
      "\n",
      "    accuracy                           0.78        32\n",
      "   macro avg       0.78      0.78      0.78        32\n",
      "weighted avg       0.78      0.78      0.78        32\n",
      "\n"
     ]
    }
   ],
   "metadata": {}
  },
  {
   "cell_type": "code",
   "execution_count": 23,
   "source": [
    "model2= KNeighborsClassifier(n_neighbors=24)\n",
    "model2.fit(X_train, y_train)\n",
    "y_pred2= model2.predict(X_test)\n",
    "acc_knn=accuracy_score(y_test,y_pred2)\n",
    "print('Accuracy: %.3f ' % acc_knn)\n",
    "# accuracy_score(y_test, y_pred2)"
   ],
   "outputs": [
    {
     "output_type": "stream",
     "name": "stdout",
     "text": [
      "Accuracy: 0.750 \n"
     ]
    }
   ],
   "metadata": {}
  },
  {
   "cell_type": "code",
   "execution_count": 20,
   "source": [
    "# define lists to collect scores\n",
    "train_scores, test_scores = list(), list()\n",
    "# define the tree depths to evaluate\n",
    "values = [i for i in range(1, 51)]\n",
    "# evaluate a decision tree for each depth\n",
    "for i in values:\n",
    "\t# configure the model\n",
    "\tmodel = KNeighborsClassifier(n_neighbors=i)\n",
    "\t# fit model on the training dataset\n",
    "\tmodel.fit(X_train, y_train)\n",
    "\t# evaluate on the train dataset\n",
    "\ttrain_yhat = model.predict(X_train)\n",
    "\ttrain_acc = accuracy_score(y_train, train_yhat)\n",
    "\ttrain_scores.append(train_acc)\n",
    "\t# evaluate on the test dataset\n",
    "\ttest_yhat = model.predict(X_test)\n",
    "\ttest_acc = accuracy_score(y_test, test_yhat)\n",
    "\ttest_scores.append(test_acc)\n",
    "\t# summarize progress\n",
    "\tprint('>%d, train: %.3f, test: %.3f' % (i, train_acc, test_acc))\n",
    "# plot of train and test scores vs number of neighbors\n",
    "pyplot.plot(values, train_scores, '-o', label='Train')\n",
    "pyplot.plot(values, test_scores, '-o', label='Test')\n",
    "pyplot.legend()\n",
    "pyplot.show()"
   ],
   "outputs": [
    {
     "output_type": "stream",
     "name": "stdout",
     "text": [
      ">1, train: 1.000, test: 0.781\n",
      ">2, train: 0.859, test: 0.719\n",
      ">3, train: 0.875, test: 0.781\n",
      ">4, train: 0.812, test: 0.719\n",
      ">5, train: 0.812, test: 0.781\n",
      ">6, train: 0.797, test: 0.594\n",
      ">7, train: 0.758, test: 0.625\n",
      ">8, train: 0.758, test: 0.594\n",
      ">9, train: 0.773, test: 0.719\n",
      ">10, train: 0.766, test: 0.656\n",
      ">11, train: 0.758, test: 0.688\n",
      ">12, train: 0.758, test: 0.656\n",
      ">13, train: 0.742, test: 0.781\n",
      ">14, train: 0.781, test: 0.719\n",
      ">15, train: 0.773, test: 0.688\n",
      ">16, train: 0.773, test: 0.688\n",
      ">17, train: 0.758, test: 0.688\n",
      ">18, train: 0.750, test: 0.656\n",
      ">19, train: 0.750, test: 0.719\n",
      ">20, train: 0.750, test: 0.719\n",
      ">21, train: 0.742, test: 0.750\n",
      ">22, train: 0.734, test: 0.688\n",
      ">23, train: 0.742, test: 0.781\n",
      ">24, train: 0.773, test: 0.750\n",
      ">25, train: 0.758, test: 0.781\n",
      ">26, train: 0.766, test: 0.750\n",
      ">27, train: 0.773, test: 0.781\n",
      ">28, train: 0.781, test: 0.781\n",
      ">29, train: 0.758, test: 0.781\n",
      ">30, train: 0.758, test: 0.781\n",
      ">31, train: 0.750, test: 0.812\n",
      ">32, train: 0.742, test: 0.781\n",
      ">33, train: 0.727, test: 0.781\n",
      ">34, train: 0.727, test: 0.781\n",
      ">35, train: 0.742, test: 0.812\n",
      ">36, train: 0.711, test: 0.750\n",
      ">37, train: 0.734, test: 0.812\n",
      ">38, train: 0.734, test: 0.688\n",
      ">39, train: 0.711, test: 0.688\n",
      ">40, train: 0.727, test: 0.688\n",
      ">41, train: 0.734, test: 0.781\n",
      ">42, train: 0.727, test: 0.750\n",
      ">43, train: 0.734, test: 0.844\n",
      ">44, train: 0.734, test: 0.812\n",
      ">45, train: 0.742, test: 0.844\n",
      ">46, train: 0.742, test: 0.844\n",
      ">47, train: 0.742, test: 0.844\n",
      ">48, train: 0.742, test: 0.844\n",
      ">49, train: 0.742, test: 0.844\n",
      ">50, train: 0.742, test: 0.844\n"
     ]
    },
    {
     "output_type": "display_data",
     "data": {
      "image/png": "[encoded data removed]",
      "text/plain": [
       "<Figure size 432x288 with 1 Axes>"
      ]
     },
     "metadata": {
      "needs_background": "light"
     }
    }
   ],
   "metadata": {}
  },
  {
   "cell_type": "code",
   "execution_count": 24,
   "source": [
    "cm2= confusion_matrix(y_test,y_pred2)\n",
    "class_names=['Apnea','Non-apnea']\n",
    "plot_confusion_matrix(model2, X_test, y_test, display_labels=class_names, cmap=plt.cm.Blues)  \n",
    "plt.show()\n",
    "\n",
    "total1=sum(sum(cm2))\n",
    "accuracy1=(cm2[0,0]+cm2[1,1])/total1\n",
    "\n",
    "print ('Accuracy : ', accuracy1)\n",
    "\n",
    "sen_knn= cm2[0,0]/(cm2[0,0]+cm2[0,1])\n",
    "print('Sensitivity : ', sen_knn)\n",
    "\n",
    "spe_knn= cm2[1,1]/(cm2[1,0]+cm2[1,1])\n",
    "print('Specificity : ', spe_knn)\n"
   ],
   "outputs": [
    {
     "output_type": "display_data",
     "data": {
      "image/png": "[encoded data removed]",
      "text/plain": [
       "<Figure size 432x288 with 2 Axes>"
      ]
     },
     "metadata": {
      "needs_background": "light"
     }
    },
    {
     "output_type": "stream",
     "name": "stdout",
     "text": [
      "Accuracy :  0.75\n",
      "Sensitivity :  0.6428571428571429\n",
      "Specificity :  0.8333333333333334\n"
     ]
    }
   ],
   "metadata": {}
  },
  {
   "cell_type": "code",
   "execution_count": 25,
   "source": [
    "models = pd.DataFrame({\n",
    "    'Model': ['SVM', 'KNN'],\n",
    "    'Score': [acc_svm, acc_knn],\n",
    "    'Sensitivity':[sen_svm,sen_knn],\n",
    "    'Specificity':[spe_svm,spe_knn]\n",
    "    })\n",
    "models\n",
    "# models.sort_values(by='Score', ascending=False)"
   ],
   "outputs": [
    {
     "output_type": "execute_result",
     "data": {
      "text/html": [
       "<div>\n",
       "<style scoped>\n",
       "    .dataframe tbody tr th:only-of-type {\n",
       "        vertical-align: middle;\n",
       "    }\n",
       "\n",
       "    .dataframe tbody tr th {\n",
       "        vertical-align: top;\n",
       "    }\n",
       "\n",
       "    .dataframe thead th {\n",
       "        text-align: right;\n",
       "    }\n",
       "</style>\n",
       "<table border=\"1\" class=\"dataframe\">\n",
       "  <thead>\n",
       "    <tr style=\"text-align: right;\">\n",
       "      <th></th>\n",
       "      <th>Model</th>\n",
       "      <th>Score</th>\n",
       "      <th>Sensitivity</th>\n",
       "      <th>Specificity</th>\n",
       "    </tr>\n",
       "  </thead>\n",
       "  <tbody>\n",
       "    <tr>\n",
       "      <th>0</th>\n",
       "      <td>SVM</td>\n",
       "      <td>0.78125</td>\n",
       "      <td>0.785714</td>\n",
       "      <td>0.777778</td>\n",
       "    </tr>\n",
       "    <tr>\n",
       "      <th>1</th>\n",
       "      <td>KNN</td>\n",
       "      <td>0.75000</td>\n",
       "      <td>0.642857</td>\n",
       "      <td>0.833333</td>\n",
       "    </tr>\n",
       "  </tbody>\n",
       "</table>\n",
       "</div>"
      ],
      "text/plain": [
       "  Model    Score  Sensitivity  Specificity\n",
       "0   SVM  0.78125     0.785714     0.777778\n",
       "1   KNN  0.75000     0.642857     0.833333"
      ]
     },
     "metadata": {},
     "execution_count": 25
    }
   ],
   "metadata": {}
  },
  {
   "cell_type": "code",
   "execution_count": null,
   "source": [],
   "outputs": [],
   "metadata": {}
  }
 ],
 "metadata": {
  "orig_nbformat": 4,
  "language_info": {
   "name": "python",
   "version": "3.8.2",
   "mimetype": "text/x-python",
   "codemirror_mode": {
    "name": "ipython",
    "version": 3
   },
   "pygments_lexer": "ipython3",
   "nbconvert_exporter": "python",
   "file_extension": ".py"
  },
  "kernelspec": {
   "name": "python3",
   "display_name": "Python 3.8.2 64-bit ('tensorflow': conda)"
  },
  "interpreter": {
   "hash": "d1ae944a8213edd7bf37a1c8cb8b1e1424ec141cbce817aecb52e014d4e086f5"
  }
 },
 "nbformat": 4,
 "nbformat_minor": 2
}